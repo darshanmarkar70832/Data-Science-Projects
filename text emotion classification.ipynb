{
 "cells": [
  {
   "cell_type": "code",
   "execution_count": 2,
   "id": "604af7e1",
   "metadata": {},
   "outputs": [],
   "source": [
    "import numpy as np\n",
    "import pandas as pd\n",
    "import keras\n",
    "import tensorflow\n",
    "from keras.preprocessing.text import Tokenizer\n",
    "from tensorflow.keras.preprocessing.sequence import pad_sequences\n",
    "from sklearn.preprocessing import LabelEncoder\n",
    "from sklearn.model_selection import train_test_split\n",
    "from keras.models import Sequential\n",
    "from keras.layers import Embedding, Flatten, Dense\n"
   ]
  },
  {
   "cell_type": "code",
   "execution_count": 7,
   "id": "91a07d76",
   "metadata": {},
   "outputs": [
    {
     "data": {
      "text/html": [
       "<div>\n",
       "<style scoped>\n",
       "    .dataframe tbody tr th:only-of-type {\n",
       "        vertical-align: middle;\n",
       "    }\n",
       "\n",
       "    .dataframe tbody tr th {\n",
       "        vertical-align: top;\n",
       "    }\n",
       "\n",
       "    .dataframe thead th {\n",
       "        text-align: right;\n",
       "    }\n",
       "</style>\n",
       "<table border=\"1\" class=\"dataframe\">\n",
       "  <thead>\n",
       "    <tr style=\"text-align: right;\">\n",
       "      <th></th>\n",
       "      <th>Text</th>\n",
       "      <th>Emotions</th>\n",
       "    </tr>\n",
       "  </thead>\n",
       "  <tbody>\n",
       "    <tr>\n",
       "      <th>0</th>\n",
       "      <td>i can go from feeling so hopeless to so damned...</td>\n",
       "      <td>sadness</td>\n",
       "    </tr>\n",
       "    <tr>\n",
       "      <th>1</th>\n",
       "      <td>im grabbing a minute to post i feel greedy wrong</td>\n",
       "      <td>anger</td>\n",
       "    </tr>\n",
       "    <tr>\n",
       "      <th>2</th>\n",
       "      <td>i am ever feeling nostalgic about the fireplac...</td>\n",
       "      <td>love</td>\n",
       "    </tr>\n",
       "    <tr>\n",
       "      <th>3</th>\n",
       "      <td>i am feeling grouchy</td>\n",
       "      <td>anger</td>\n",
       "    </tr>\n",
       "    <tr>\n",
       "      <th>4</th>\n",
       "      <td>ive been feeling a little burdened lately wasn...</td>\n",
       "      <td>sadness</td>\n",
       "    </tr>\n",
       "    <tr>\n",
       "      <th>...</th>\n",
       "      <td>...</td>\n",
       "      <td>...</td>\n",
       "    </tr>\n",
       "    <tr>\n",
       "      <th>15994</th>\n",
       "      <td>i just had a very brief time in the beanbag an...</td>\n",
       "      <td>sadness</td>\n",
       "    </tr>\n",
       "    <tr>\n",
       "      <th>15995</th>\n",
       "      <td>i am now turning and i feel pathetic that i am...</td>\n",
       "      <td>sadness</td>\n",
       "    </tr>\n",
       "    <tr>\n",
       "      <th>15996</th>\n",
       "      <td>i feel strong and good overall</td>\n",
       "      <td>joy</td>\n",
       "    </tr>\n",
       "    <tr>\n",
       "      <th>15997</th>\n",
       "      <td>i feel like this was such a rude comment and i...</td>\n",
       "      <td>anger</td>\n",
       "    </tr>\n",
       "    <tr>\n",
       "      <th>15998</th>\n",
       "      <td>i know a lot but i feel so stupid because i ca...</td>\n",
       "      <td>sadness</td>\n",
       "    </tr>\n",
       "  </tbody>\n",
       "</table>\n",
       "<p>15999 rows × 2 columns</p>\n",
       "</div>"
      ],
      "text/plain": [
       "                                                    Text Emotions\n",
       "0      i can go from feeling so hopeless to so damned...  sadness\n",
       "1       im grabbing a minute to post i feel greedy wrong    anger\n",
       "2      i am ever feeling nostalgic about the fireplac...     love\n",
       "3                                   i am feeling grouchy    anger\n",
       "4      ive been feeling a little burdened lately wasn...  sadness\n",
       "...                                                  ...      ...\n",
       "15994  i just had a very brief time in the beanbag an...  sadness\n",
       "15995  i am now turning and i feel pathetic that i am...  sadness\n",
       "15996                     i feel strong and good overall      joy\n",
       "15997  i feel like this was such a rude comment and i...    anger\n",
       "15998  i know a lot but i feel so stupid because i ca...  sadness\n",
       "\n",
       "[15999 rows x 2 columns]"
      ]
     },
     "execution_count": 7,
     "metadata": {},
     "output_type": "execute_result"
    }
   ],
   "source": [
    "data = pd.read_csv('train.txt',sep=';')\n",
    "data.columns = ['Text','Emotions']\n",
    "data"
   ]
  },
  {
   "cell_type": "code",
   "execution_count": 32,
   "id": "a2223094",
   "metadata": {},
   "outputs": [],
   "source": [
    "texts = data[\"Text\"].tolist()\n",
    "labels = data[\"Emotions\"].tolist()\n",
    "\n",
    "# Tokenize the text data\n",
    "tokenizer = Tokenizer()\n",
    "tokenizer.fit_on_texts(texts)"
   ]
  },
  {
   "cell_type": "code",
   "execution_count": 33,
   "id": "9f7c1725",
   "metadata": {},
   "outputs": [],
   "source": [
    "sequences = tokenizer.texts_to_sequences(texts)\n",
    "max_length = max([len(seq) for seq in sequences])\n",
    "padded_sequences = pad_sequences(sequences, maxlen=max_length)"
   ]
  },
  {
   "cell_type": "code",
   "execution_count": 34,
   "id": "6d0ccb2c",
   "metadata": {},
   "outputs": [],
   "source": [
    "#encode the string labels to integers\n",
    "label_encoder = LabelEncoder()\n",
    "labels = label_encoder.fit_transform(labels)"
   ]
  },
  {
   "cell_type": "code",
   "execution_count": 35,
   "id": "ea0002d8",
   "metadata": {},
   "outputs": [],
   "source": [
    "# one hot encoding the labels\n",
    "one_hot_labels = keras.utils.to_categorical(labels)"
   ]
  },
  {
   "cell_type": "code",
   "execution_count": 36,
   "id": "d02a9921",
   "metadata": {},
   "outputs": [],
   "source": [
    "xtrain, xtest, ytrain, ytest = train_test_split(padded_sequences, \n",
    "                                                one_hot_labels, \n",
    "                                                test_size=0.2)"
   ]
  },
  {
   "cell_type": "code",
   "execution_count": 37,
   "id": "e378fd70",
   "metadata": {},
   "outputs": [
    {
     "name": "stdout",
     "output_type": "stream",
     "text": [
      "Epoch 1/10\n",
      "400/400 [==============================] - 18s 45ms/step - loss: 1.3584 - accuracy: 0.4819 - val_loss: 0.8500 - val_accuracy: 0.7266\n",
      "Epoch 2/10\n",
      "400/400 [==============================] - 18s 45ms/step - loss: 0.3661 - accuracy: 0.8839 - val_loss: 0.4951 - val_accuracy: 0.8334\n",
      "Epoch 3/10\n",
      "400/400 [==============================] - 18s 45ms/step - loss: 0.0613 - accuracy: 0.9845 - val_loss: 0.5048 - val_accuracy: 0.8425\n",
      "Epoch 4/10\n",
      "400/400 [==============================] - 18s 45ms/step - loss: 0.0249 - accuracy: 0.9952 - val_loss: 0.5264 - val_accuracy: 0.8338\n",
      "Epoch 5/10\n",
      "400/400 [==============================] - 18s 45ms/step - loss: 0.0164 - accuracy: 0.9972 - val_loss: 0.5633 - val_accuracy: 0.8313\n",
      "Epoch 6/10\n",
      "400/400 [==============================] - 18s 45ms/step - loss: 0.0142 - accuracy: 0.9970 - val_loss: 0.5880 - val_accuracy: 0.8331\n",
      "Epoch 7/10\n",
      "400/400 [==============================] - 18s 45ms/step - loss: 0.0127 - accuracy: 0.9974 - val_loss: 0.6512 - val_accuracy: 0.8322\n",
      "Epoch 8/10\n",
      "400/400 [==============================] - 18s 45ms/step - loss: 0.0106 - accuracy: 0.9976 - val_loss: 0.6339 - val_accuracy: 0.8309\n",
      "Epoch 9/10\n",
      "400/400 [==============================] - 18s 45ms/step - loss: 0.0105 - accuracy: 0.9976 - val_loss: 0.6756 - val_accuracy: 0.8259\n",
      "Epoch 10/10\n",
      "400/400 [==============================] - 18s 45ms/step - loss: 0.0083 - accuracy: 0.9978 - val_loss: 0.7037 - val_accuracy: 0.8247\n"
     ]
    },
    {
     "data": {
      "text/plain": [
       "<keras.src.callbacks.History at 0x1fb8084d700>"
      ]
     },
     "execution_count": 37,
     "metadata": {},
     "output_type": "execute_result"
    }
   ],
   "source": [
    "model = Sequential()\n",
    "model.add(Embedding(input_dim=len(tokenizer.word_index) + 1, \n",
    "                    output_dim=128, input_length=max_length))\n",
    "model.add(Flatten())\n",
    "model.add(Dense(units=128, activation=\"relu\"))\n",
    "model.add(Dense(units=len(one_hot_labels[0]), activation=\"softmax\"))\n",
    "\n",
    "model.compile(optimizer=\"adam\", loss=\"categorical_crossentropy\", metrics=[\"accuracy\"])\n",
    "model.fit(xtrain, ytrain, epochs=10, batch_size=32, validation_data=(xtest, ytest))"
   ]
  },
  {
   "cell_type": "code",
   "execution_count": 38,
   "id": "35e7f778",
   "metadata": {},
   "outputs": [],
   "source": [
    "input_text = \"She didnt't come today because she lost her dog yesterday!\"\n",
    "\n"
   ]
  },
  {
   "cell_type": "code",
   "execution_count": 39,
   "id": "4a396e93",
   "metadata": {},
   "outputs": [
    {
     "name": "stdout",
     "output_type": "stream",
     "text": [
      "1/1 [==============================] - 0s 44ms/step\n",
      "['sadness']\n"
     ]
    }
   ],
   "source": [
    "# Preprocess the input text\n",
    "input_sequence = tokenizer.texts_to_sequences([input_text])\n",
    "padded_input_sequence = pad_sequences(input_sequence, maxlen=max_length)\n",
    "prediction = model.predict(padded_input_sequence)\n",
    "predicted_label = label_encoder.inverse_transform([np.argmax(prediction[0])])\n",
    "print(predicted_label)"
   ]
  },
  {
   "cell_type": "code",
   "execution_count": null,
   "id": "4145b078",
   "metadata": {},
   "outputs": [],
   "source": []
  }
 ],
 "metadata": {
  "kernelspec": {
   "display_name": "Python 3 (ipykernel)",
   "language": "python",
   "name": "python3"
  },
  "language_info": {
   "codemirror_mode": {
    "name": "ipython",
    "version": 3
   },
   "file_extension": ".py",
   "mimetype": "text/x-python",
   "name": "python",
   "nbconvert_exporter": "python",
   "pygments_lexer": "ipython3",
   "version": "3.9.13"
  }
 },
 "nbformat": 4,
 "nbformat_minor": 5
}
